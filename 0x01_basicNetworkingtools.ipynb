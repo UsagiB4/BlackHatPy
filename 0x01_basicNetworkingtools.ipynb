{
 "cells": [
  {
   "cell_type": "markdown",
   "id": "e052f2e8",
   "metadata": {},
   "source": [
    "## Extensive note on **Chapter 2: Basic Networking Tools**\n",
    "\n",
    "### Library used:\n",
    "- socket"
   ]
  },
  {
   "cell_type": "markdown",
   "id": "f819bccf",
   "metadata": {},
   "source": [
    "### Basic of Socket:"
   ]
  },
  {
   "cell_type": "code",
   "execution_count": null,
   "id": "830da952",
   "metadata": {},
   "outputs": [
    {
     "name": "stdout",
     "output_type": "stream",
     "text": [
      "127.0.1.1\n"
     ]
    }
   ],
   "source": [
    "# ====== || Server || ======\n",
    "import socket\n",
    "\n",
    "HOST = '127.0.0.1'\n",
    "PORT = 6673\n",
    "\n",
    "with socket.socket(socket.AF_INET, socket.SOCK_STREAM) as sc:\n",
    "    sc.bind((HOST, PORT))\n",
    "    sc.listen()\n",
    "    conn, addr = sc.accept()\n",
    "    with conn:\n",
    "        print(f\"connected to {addr}\")\n",
    "        while True:\n",
    "            data = conn.recv(1024)\n",
    "            if not data:\n",
    "                break\n",
    "            conn.sendall(data)"
   ]
  },
  {
   "cell_type": "markdown",
   "id": "5ed5b800",
   "metadata": {},
   "source": [
    "#### `Code` Breakdown:\n",
    "```python\n",
    "    with socket.socket(socket.AF_INET, socket.SOCK_STREAM) as sc:\n",
    "```\n",
    "here `socket.socket()` creates a socket object. Since we are using `with` statement, there is no need to call the `.close()` function to close the connection after using.\n",
    "\n",
    "There are ***2*** arguments passed into the function:\n",
    "- **Address Family**: here we used `.AF_INET` to specify *IPv4*\n",
    "- **Socket Type**: here we used `.SOCk_STREAM` for *TCP* socket type.\n",
    "\n",
    "```python\n",
    "    sc.bind((HOST, PORT))\n",
    "    sc.listen()\n",
    "    conn, addr = sc.accept()\n",
    "```\n",
    "the value passed into `.bind()` depends on what address family we've used in the socket. In this scenerio, we've used *IPv4* which requires **2 tuple**, (host, port). *host* is the IP address and *port* is the port to connect with that *ip*."
   ]
  }
 ],
 "metadata": {
  "kernelspec": {
   "display_name": "Python 3",
   "language": "python",
   "name": "python3"
  },
  "language_info": {
   "codemirror_mode": {
    "name": "ipython",
    "version": 3
   },
   "file_extension": ".py",
   "mimetype": "text/x-python",
   "name": "python",
   "nbconvert_exporter": "python",
   "pygments_lexer": "ipython3",
   "version": "3.12.6"
  }
 },
 "nbformat": 4,
 "nbformat_minor": 5
}
