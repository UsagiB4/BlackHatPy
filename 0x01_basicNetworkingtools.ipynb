{
 "cells": [
  {
   "cell_type": "markdown",
   "id": "e052f2e8",
   "metadata": {},
   "source": [
    "## Extensive note on **Chapter 2: Basic Networking Tools**\n",
    "\n",
    "### Library used:\n",
    "- socket"
   ]
  },
  {
   "cell_type": "markdown",
   "id": "f819bccf",
   "metadata": {},
   "source": [
    "### Basic of Socket:"
   ]
  },
  {
   "cell_type": "code",
   "execution_count": null,
   "id": "830da952",
   "metadata": {},
   "outputs": [],
   "source": [
    "# ====== || Server || ======\n",
    "import socket\n",
    "\n",
    "HOST = '127.0.0.1'\n",
    "PORT = 6673\n",
    "\n",
    "with socket.socket(socket.AF_INET, socket.SOCK_STREAM) as sc:\n",
    "    sc.bind((HOST, PORT))\n",
    "    sc.listen()\n",
    "    conn, addr = sc.accept()\n",
    "    with conn:\n",
    "        print(f\"connected to {addr}\")\n",
    "        while True:\n",
    "            data = conn.recv(1024)\n",
    "            if not data:\n",
    "                break\n",
    "            conn.sendall(data)"
   ]
  },
  {
   "cell_type": "markdown",
   "id": "5ed5b800",
   "metadata": {},
   "source": [
    "#### `Code` Breakdown:\n",
    "```python\n",
    "    with socket.socket(socket.AF_INET, socket.SOCK_STREAM) as sc:\n",
    "```\n",
    "here `socket.socket()` creates a socket object. Since we are using `with` statement, there is no need to call the `.close()` function to close the connection after using.\n",
    "\n",
    "There are ***2*** arguments passed into the function:\n",
    "- **Address Family**: here we used `.AF_INET` to specify *IPv4*\n",
    "- **Socket Type**: here we used `.SOCk_STREAM` for *TCP* socket type.\n",
    "\n",
    "---\n",
    "\n",
    "```python\n",
    "    sc.bind((HOST, PORT))\n",
    "    sc.listen()\n",
    "    conn, addr = sc.accept()\n",
    "```\n",
    "`.bind()` is used for associate the socket with specific network.\n",
    "\n",
    "The value passed into `.bind()` depends on what address family we've used in the socket. In this scenerio, we've used *IPv4* which requires **2 tuple**, (host, port). *host* is the IP address and *port* is the port to connect with that *ip*.\n",
    "\n",
    "`.listen()` enables server to accept connections.\n",
    "\n",
    "`.accept()` this functions makes the server wait for an incoming connection from client. And when the client is connected, it returns a **Tuple** containing `(host, port)`.\n",
    "\n",
    "---\n",
    "\n",
    "```python\n",
    "    with conn:\n",
    "        print(f\"connected to {addr}\")\n",
    "        while True:\n",
    "            data = conn.recv(1024)\n",
    "            if not data:\n",
    "                break\n",
    "            conn.sendall(data)\n",
    "```\n",
    "Now as we got `conn` and `addr` from `.accept()` we will loop through the `conn` to receive data using `.recv()`. This reads all data that the client sends using `.sendall(data)` function.\n",
    "\n",
    "if the `conn.recv()` returns empty, then the connection will be closed."
   ]
  },
  {
   "cell_type": "code",
   "execution_count": null,
   "id": "e9252b83",
   "metadata": {},
   "outputs": [],
   "source": [
    "# ====== || Cleint || ======\n",
    "import socket\n",
    "\n",
    "HOST = \"127.0.0.1\"\n",
    "PORT = 6673\n",
    "\n",
    "with socket.socket(socket.AF_INET, socket.SOCK_STREAM) as sc:\n",
    "    sc.connect((HOST, PORT))\n",
    "    sc.sendall(b\"Hi from the client. \\n\\r python: is cool\")\n",
    "    data = sc.recv(1024)\n",
    "\n",
    "print(f\"Recieved data = {data!r}\")"
   ]
  },
  {
   "cell_type": "markdown",
   "id": "498e097f",
   "metadata": {},
   "source": [
    "# `Code` Breakdown\n",
    "\n",
    "The code for **Client** is relatively simple. Just like server we are creating a socket object.\n",
    "After that using `.connect((Host, Port))` we are connecting with the server.\n",
    "\n",
    "New thing here is \n",
    "```python\n",
    "sc.sendall(b\"message here\")\n",
    "```\n",
    "This code, sends message to the server.\n",
    "After sending the message, it uses `.recv()` function to receive the reply from server.\n",
    "\n",
    "---\n",
    "\n",
    ">> For Running this you have to run the server first and then run the clien code.\n"
   ]
  }
 ],
 "metadata": {
  "kernelspec": {
   "display_name": "Python 3",
   "language": "python",
   "name": "python3"
  },
  "language_info": {
   "codemirror_mode": {
    "name": "ipython",
    "version": 3
   },
   "file_extension": ".py",
   "mimetype": "text/x-python",
   "name": "python",
   "nbconvert_exporter": "python",
   "pygments_lexer": "ipython3",
   "version": "3.12.6"
  }
 },
 "nbformat": 4,
 "nbformat_minor": 5
}
