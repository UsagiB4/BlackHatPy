{
 "cells": [
  {
   "cell_type": "markdown",
   "id": "c7aac44b",
   "metadata": {},
   "source": [
    "## Making A Python Netcat.\n",
    "Hacking and never heard of netcat is like visiting a forest and not seeing trees. It's really handy when you're trying to get into a system remotely. Netcat allows an attacker to execute code, read/write files, get and send files and much more.\n",
    "So making one using python won't be easy, but will definitely be fun.\n",
    "\n",
    "#### These are the following modules and libraries we will need for this:\n",
    "- argparse\n",
    "- socket\n",
    "- shlex\n",
    "- subprocess\n",
    "- sys\n",
    "- textwrap\n",
    "- threading\n",
    "\n",
    "It's always good to learn them one by one as it will help you to improve your code.\n"
   ]
  },
  {
   "cell_type": "code",
   "execution_count": 2,
   "id": "50a7c894",
   "metadata": {},
   "outputs": [
    {
     "data": {
      "text/plain": [
       "'usagib4\\n'"
      ]
     },
     "execution_count": 2,
     "metadata": {},
     "output_type": "execute_result"
    }
   ],
   "source": [
    "import argparse\n",
    "import socket\n",
    "import shlex\n",
    "import subprocess\n",
    "import sys\n",
    "import textwrap\n",
    "import threading\n",
    "\n",
    "def execute(cmd):\n",
    "    cmd = cmd.strip()\n",
    "    if not cmd:\n",
    "        return\n",
    "    output = subprocess.check_output(shlex.split(cmd), stderr=subprocess.STDOUT)\n",
    "    return output.decode()\n",
    "\n",
    "execute('whoami')"
   ]
  },
  {
   "cell_type": "markdown",
   "id": "d2ff630f",
   "metadata": {},
   "source": [
    "Here we have made a function called `execute` which takes `cmd` as input.\n",
    "First, using `.strip()` command it removes all the white-spaces before or after the input.\n",
    "Then, using `.check_output()` function it runs the command into our local machine.\n",
    "\n",
    "`shlex.split()` takes an input and split based on spaces and create a list of arguments. *e.g*: `shlex.split(\"echo 'hello'\")` will turn into `[\"echo\", \"hello\"]`\n",
    "\n",
    "`stderr=` redirects all the error in a defined place. in this case the place is `STDOUT`"
   ]
  }
 ],
 "metadata": {
  "kernelspec": {
   "display_name": "Python 3",
   "language": "python",
   "name": "python3"
  },
  "language_info": {
   "codemirror_mode": {
    "name": "ipython",
    "version": 3
   },
   "file_extension": ".py",
   "mimetype": "text/x-python",
   "name": "python",
   "nbconvert_exporter": "python",
   "pygments_lexer": "ipython3",
   "version": "3.12.6"
  }
 },
 "nbformat": 4,
 "nbformat_minor": 5
}
